{
 "cells": [
  {
   "cell_type": "markdown",
   "metadata": {},
   "source": [
    "### Use the following code for the questions below:\n",
    "\n",
    "`a = np.array([4, 10, 12, 23, -2, -1, 0, 0, 0, -6, 3, -7])`"
   ]
  },
  {
   "cell_type": "code",
   "execution_count": 83,
   "metadata": {},
   "outputs": [],
   "source": [
    "import numpy as np\n",
    "\n",
    "a = np.array([4, 10, 12, 23, -2, -1, 0, 0, 0, -6, 3, -7])"
   ]
  },
  {
   "cell_type": "markdown",
   "metadata": {},
   "source": [
    "### 1. How many negative numbers are there?"
   ]
  },
  {
   "cell_type": "code",
   "execution_count": 84,
   "metadata": {},
   "outputs": [
    {
     "data": {
      "text/plain": [
       "4"
      ]
     },
     "execution_count": 84,
     "metadata": {},
     "output_type": "execute_result"
    }
   ],
   "source": [
    "negatives = a[a < 0]\n",
    "len(negatives)"
   ]
  },
  {
   "cell_type": "markdown",
   "metadata": {},
   "source": [
    "### 2. How many positive numbers are there?"
   ]
  },
  {
   "cell_type": "code",
   "execution_count": 85,
   "metadata": {},
   "outputs": [
    {
     "data": {
      "text/plain": [
       "5"
      ]
     },
     "execution_count": 85,
     "metadata": {},
     "output_type": "execute_result"
    }
   ],
   "source": [
    "positives = a[a > 0]\n",
    "len(positives)"
   ]
  },
  {
   "cell_type": "markdown",
   "metadata": {},
   "source": [
    "### 3. How many even positive numbers are there?"
   ]
  },
  {
   "cell_type": "code",
   "execution_count": 87,
   "metadata": {},
   "outputs": [
    {
     "data": {
      "text/plain": [
       "3"
      ]
     },
     "execution_count": 87,
     "metadata": {},
     "output_type": "execute_result"
    }
   ],
   "source": [
    "even_positives = positives[positives % 2 == 0]\n",
    "len(even_positives)"
   ]
  },
  {
   "cell_type": "markdown",
   "metadata": {},
   "source": [
    "### 4. If you were to add 3 to each data point, how many positive numbers would there be?"
   ]
  },
  {
   "cell_type": "code",
   "execution_count": 88,
   "metadata": {},
   "outputs": [
    {
     "data": {
      "text/plain": [
       "10"
      ]
     },
     "execution_count": 88,
     "metadata": {},
     "output_type": "execute_result"
    }
   ],
   "source": [
    "add_three = a + 3\n",
    "positives = add_three[add_three > 0]\n",
    "len(positives)"
   ]
  },
  {
   "cell_type": "markdown",
   "metadata": {},
   "source": [
    "### 5. If you squared each number, what would the new mean and standard deviation be?"
   ]
  },
  {
   "cell_type": "code",
   "execution_count": 13,
   "metadata": {},
   "outputs": [
    {
     "data": {
      "text/plain": [
       "(74.0, 144.0243035046516)"
      ]
     },
     "execution_count": 13,
     "metadata": {},
     "output_type": "execute_result"
    }
   ],
   "source": [
    "squared = a ** 2\n",
    "squared.mean(), squared.std()"
   ]
  },
  {
   "cell_type": "markdown",
   "metadata": {},
   "source": [
    "### 6. A common statistical operation on a dataset is centering. This means to adjust the data such that the mean of the data is 0. This is done by subtracting the mean from each data point. Center the data set. See this link for more on centering."
   ]
  },
  {
   "cell_type": "code",
   "execution_count": 17,
   "metadata": {},
   "outputs": [
    {
     "data": {
      "text/plain": [
       "(array([  1.,   7.,   9.,  20.,  -5.,  -4.,  -3.,  -3.,  -3.,  -9.,   0.,\n",
       "        -10.]),\n",
       " 0.0)"
      ]
     },
     "execution_count": 17,
     "metadata": {},
     "output_type": "execute_result"
    }
   ],
   "source": [
    "centered = a - a.mean()\n",
    "centered, centered.mean()"
   ]
  },
  {
   "cell_type": "code",
   "execution_count": 18,
   "metadata": {},
   "outputs": [
    {
     "data": {
      "text/plain": [
       "array([ 0.12403473,  0.86824314,  1.11631261,  2.48069469, -0.62017367,\n",
       "       -0.49613894, -0.3721042 , -0.3721042 , -0.3721042 , -1.11631261,\n",
       "        0.        , -1.24034735])"
      ]
     },
     "execution_count": 18,
     "metadata": {},
     "output_type": "execute_result"
    }
   ],
   "source": [
    "z_scores = (a - a.mean()) / a.std()\n",
    "z_scores"
   ]
  },
  {
   "cell_type": "markdown",
   "metadata": {},
   "source": [
    "### 8. Copy the setup and exercise directions from More Numpy Practice into your numpy_exercises.py and add your solutions."
   ]
  },
  {
   "cell_type": "code",
   "execution_count": 89,
   "metadata": {},
   "outputs": [
    {
     "name": "stdout",
     "output_type": "stream",
     "text": [
      "sum_of_a:  55\n",
      "min_of_a:  1\n",
      "max_of_a:  10\n",
      "mean_of_a:  5.5\n",
      "product_of_a:  3628800\n",
      "squares_of_a:  [1, 4, 9, 16, 25, 36, 49, 64, 81, 100]\n",
      "odds_in_a:  [1, 3, 5, 7, 9]\n",
      "evens_in_a:  [2, 4, 6, 8, 10]\n"
     ]
    }
   ],
   "source": [
    "import numpy as np\n",
    "# Life w/o numpy to life with numpy\n",
    "\n",
    "## Setup 1\n",
    "a = [1, 2, 3, 4, 5, 6, 7, 8, 9, 10]\n",
    "\n",
    "# Use python's built in functionality/operators to determine the following:\n",
    "# Exercise 1 - Make a variable called sum_of_a to hold the sum of all the numbers in above list\n",
    "sum_of_a = sum(a)\n",
    "print(f\"sum_of_a:  {sum_of_a}\")\n",
    "\n",
    "# Exercise 2 - Make a variable named min_of_a to hold the minimum of all the numbers in the above list\n",
    "min_of_a = min(a)\n",
    "print(f\"min_of_a:  {min_of_a}\")\n",
    "\n",
    "# Exercise 3 - Make a variable named max_of_a to hold the max number of all the numbers in the above list\n",
    "max_of_a = max(a)\n",
    "print(f\"max_of_a:  {max_of_a}\")\n",
    "\n",
    "# Exercise 4 - Make a variable named mean_of_a to hold the average of all the numbers in the above list\n",
    "mean_of_a = sum_of_a / len(a)\n",
    "print(f\"mean_of_a:  {mean_of_a}\")\n",
    "\n",
    "# Exercise 5 - Make a variable named product_of_a to hold the product of multiplying all the numbers in the above list together\n",
    "product_of_a = 1\n",
    "for num in a:\n",
    "    product_of_a *= num\n",
    "    \n",
    "print(f\"product_of_a:  {product_of_a}\")\n",
    "\n",
    "# Exercise 6 - Make a variable named squares_of_a. It should hold each number in a squared like [1, 4, 9, 16, 25...]\n",
    "squares_of_a = [n ** 2 for n in a]\n",
    "    \n",
    "print(f\"squares_of_a:  {squares_of_a}\")\n",
    "\n",
    "# Exercise 7 - Make a variable named odds_in_a. It should hold only the odd numbers\n",
    "odds_in_a = [num for num in a if num % 2 != 0]\n",
    "print(f\"odds_in_a:  {odds_in_a}\")\n",
    "\n",
    "# Exercise 8 - Make a variable named evens_in_a. It should hold only the evens.\n",
    "evens_in_a = [num for num in a if num % 2 == 0]\n",
    "print(f\"evens_in_a:  {evens_in_a}\")"
   ]
  },
  {
   "cell_type": "code",
   "execution_count": 92,
   "metadata": {},
   "outputs": [
    {
     "name": "stdout",
     "output_type": "stream",
     "text": [
      "sum_of_b:  33\n",
      "min_of_b:  3\n",
      "max_of_b:  8\n",
      "mean_of_b:  5.5\n",
      "product_of_b:  20160\n",
      "squares_of_b:  [[ 9 16 25]\n",
      " [36 49 64]]\n",
      "odds_in_b:  [3 5 7]\n",
      "evens_in_b: [4 6 8]\n",
      "shape of b:  (2, 3)\n",
      "b transposed:  [[3 6]\n",
      " [4 7]\n",
      " [5 8]]\n",
      "b reshaped 1x6:  [[3 4 5 6 7 8]]\n",
      "b reshaped 6x1:  [[3]\n",
      " [4]\n",
      " [5]\n",
      " [6]\n",
      " [7]\n",
      " [8]]\n"
     ]
    }
   ],
   "source": [
    "## What about life in two dimensions? A list of lists is matrix, a table, a spreadsheet, a chessboard...\n",
    "## Setup 2: Consider what it would take to find the sum, min, max, average, sum, product, and list of squares for this list of two lists.\n",
    "b = [\n",
    "    [3, 4, 5],\n",
    "    [6, 7, 8]\n",
    "]\n",
    "\n",
    "# Exercise 1 - refactor the following to use numpy. Use sum_of_b as the variable. **Hint, you'll first need to make sure that the \"b\" variable is a numpy array**\n",
    "b = np.array(b)\n",
    "sum_of_b = b.sum()\n",
    "print(f\"sum_of_b:  {sum_of_b}\")\n",
    "\n",
    "# Exercise 2 - refactor the following to use numpy. \n",
    "min_of_b = b.min()\n",
    "print(f\"min_of_b:  {min_of_b}\")\n",
    "\n",
    "# Exercise 3 - refactor the following maximum calculation to find the answer with numpy.\n",
    "max_of_b = b.max()\n",
    "print(f\"max_of_b:  {max_of_b}\")\n",
    "\n",
    "# Exercise 4 - refactor the following using numpy to find the mean of b\n",
    "mean_of_b = b.mean()\n",
    "print(f\"mean_of_b:  {mean_of_b}\")\n",
    "\n",
    "# Exercise 5 - refactor the following to use numpy for calculating the product of all numbers multiplied together.\n",
    "product_of_b = np.prod(b)\n",
    "print(f\"product_of_b:  {product_of_b}\")\n",
    "\n",
    "# Exercise 6 - refactor the following to use numpy to find the list of squares \n",
    "squares_of_b = b ** 2\n",
    "print(f\"squares_of_b:  {squares_of_b}\")\n",
    "\n",
    "# Exercise 7 - refactor using numpy to determine the odds_in_b\n",
    "odds_in_b = b[b % 2 != 0]\n",
    "print(f\"odds_in_b:  {odds_in_b}\")\n",
    "\n",
    "# Exercise 8 - refactor the following to use numpy to filter only the even numbers\n",
    "evens_in_b = b[b % 2 == 0]\n",
    "print(f\"evens_in_b: {evens_in_b}\")\n",
    "\n",
    "# Exercise 9 - print out the shape of the array b.\n",
    "print(f\"shape of b:  {b.shape}\")\n",
    "\n",
    "# Exercise 10 - transpose the array b.\n",
    "print(f\"b transposed:  {np.transpose(b)}\")\n",
    "# can also call transpose and reshape directly on array\n",
    "\n",
    "# Exercise 11 - reshape the array b to be a single list of 6 numbers. (1 x 6)\n",
    "print(f\"b reshaped 1x6:  {np.reshape(b, (1, 6))}\")\n",
    "\n",
    "# Exercise 12 - reshape the array b to be a list of 6 lists, each containing only 1 number (6 x 1)\n",
    "print(f\"b reshaped 6x1:  {np.reshape(b, (6, 1))}\")"
   ]
  },
  {
   "cell_type": "code",
   "execution_count": 64,
   "metadata": {},
   "outputs": [
    {
     "name": "stdout",
     "output_type": "stream",
     "text": [
      "1 9 45 362880\n",
      "2.581988897471611\n",
      "6.666666666666667\n",
      "(3, 3)\n",
      "[[1 4 7]\n",
      " [2 5 8]\n",
      " [3 6 9]]\n",
      "[[ 30  36  42]\n",
      " [ 66  81  96]\n",
      " [102 126 150]]\n",
      "261\n",
      "131681894400\n"
     ]
    }
   ],
   "source": [
    "## Setup 3\n",
    "c = [\n",
    "    [1, 2, 3],\n",
    "    [4, 5, 6],\n",
    "    [7, 8, 9]\n",
    "]\n",
    "\n",
    "# HINT, you'll first need to make sure that the \"c\" variable is a numpy array prior to using numpy array methods.\n",
    "c = np.array(c)\n",
    "\n",
    "# Exercise 1 - Find the min, max, sum, and product of c.\n",
    "print(c.min(), c.max(), c.sum(), np.prod(c))\n",
    "\n",
    "# Exercise 2 - Determine the standard deviation of c.\n",
    "print(c.std())\n",
    "\n",
    "# Exercise 3 - Determine the variance of c.\n",
    "print(np.var(c))\n",
    "\n",
    "# Exercise 4 - Print out the shape of the array c\n",
    "print(c.shape)\n",
    "\n",
    "# Exercise 5 - Transpose c and print out transposed result.\n",
    "transposed_c = np.transpose(c)\n",
    "print(transposed_c)\n",
    "\n",
    "# Exercise 6 - Get the dot product of the array c with c. \n",
    "print(np.dot(c, c))\n",
    "\n",
    "# Exercise 7 - Write the code necessary to sum up the result of c times c transposed. Answer should be 261\n",
    "print(np.array(c * transposed_c).sum())\n",
    "\n",
    "# Exercise 8 - Write the code necessary to determine the product of c times c transposed. Answer should be 131681894400.\n",
    "print(np.prod(np.array(c * transposed_c)))"
   ]
  },
  {
   "cell_type": "code",
   "execution_count": 81,
   "metadata": {},
   "outputs": [
    {
     "name": "stdout",
     "output_type": "stream",
     "text": [
      "[[ 0.89399666 -0.98803162  0.85090352  0.          0.58061118 -0.80115264]\n",
      " [ 0.85090352 -0.89399666  0.98803162 -0.17604595  0.89399666  0.        ]\n",
      " [-0.30481062  0.85090352 -0.85090352  0.89399666 -0.85090352 -0.80115264]]\n",
      "[[-0.44807362  0.15425145  0.52532199  1.          0.81418097 -0.59846007]\n",
      " [ 0.52532199 -0.44807362  0.15425145  0.98438195 -0.44807362  1.        ]\n",
      " [-0.95241298  0.52532199  0.52532199 -0.44807362  0.52532199 -0.59846007]]\n",
      "[[-1.99520041 -6.4053312   1.61977519  0.          0.71312301  1.33869021]\n",
      " [ 1.61977519  1.99520041  6.4053312  -0.17883906 -1.99520041  0.        ]\n",
      " [ 0.32004039  1.61977519 -1.61977519 -1.99520041 -1.61977519  1.33869021]]\n",
      "[-90 -30 -45 -45]\n",
      "[ 90  30  45 120 180  45 270  90  60  45  90 180]\n",
      "[-90 -45 -30   0  30  45  60  90 120 180 270]\n",
      "11\n",
      "(3, 6)\n",
      "(6, 3)\n"
     ]
    },
    {
     "data": {
      "text/plain": [
       "array([[ 90,  30],\n",
       "       [ 45,   0],\n",
       "       [120, 180],\n",
       "       [ 45, -90],\n",
       "       [-30, 270],\n",
       "       [ 90,   0],\n",
       "       [ 60,  45],\n",
       "       [-45,  90],\n",
       "       [-45, 180]])"
      ]
     },
     "execution_count": 81,
     "metadata": {},
     "output_type": "execute_result"
    }
   ],
   "source": [
    "## Setup 4\n",
    "d = [\n",
    "    [90, 30, 45, 0, 120, 180],\n",
    "    [45, -90, -30, 270, 90, 0],\n",
    "    [60, 45, -45, 90, -45, 180]\n",
    "]\n",
    "\n",
    "d = np.array(d)\n",
    "# Exercise 1 - Find the sine of all the numbers in d\n",
    "print(np.sin(d))\n",
    "\n",
    "# Exercise 2 - Find the cosine of all the numbers in d\n",
    "print(np.cos(d))\n",
    "\n",
    "# Exercise 3 - Find the tangent of all the numbers in d\n",
    "print(np.tan(d))\n",
    "\n",
    "# Exercise 4 - Find all the negative numbers in d\n",
    "print(d[d < 0])\n",
    "\n",
    "# Exercise 5 - Find all the positive numbers in d\n",
    "print(d[d > 0])\n",
    "\n",
    "# Exercise 6 - Return an array of only the unique numbers in d.\n",
    "print(np.unique(d))\n",
    "\n",
    "# Exercise 7 - Determine how many unique numbers there are in d.\n",
    "print(len(np.unique(d)))\n",
    "\n",
    "# Exercise 8 - Print out the shape of d.\n",
    "print(d.shape)\n",
    "\n",
    "# Exercise 9 - Transpose and then print out the shape of d.\n",
    "transpose_d = np.transpose(d)\n",
    "print(transpose_d.shape)\n",
    "\n",
    "# Exercise 10 - Reshape d into an array of 9 x 2\n",
    "np.reshape(d, (9, 2))"
   ]
  },
  {
   "cell_type": "code",
   "execution_count": null,
   "metadata": {},
   "outputs": [],
   "source": []
  }
 ],
 "metadata": {
  "kernelspec": {
   "display_name": "Python 3",
   "language": "python",
   "name": "python3"
  },
  "language_info": {
   "codemirror_mode": {
    "name": "ipython",
    "version": 3
   },
   "file_extension": ".py",
   "mimetype": "text/x-python",
   "name": "python",
   "nbconvert_exporter": "python",
   "pygments_lexer": "ipython3",
   "version": "3.8.5"
  }
 },
 "nbformat": 4,
 "nbformat_minor": 4
}
